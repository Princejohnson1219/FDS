{
  "nbformat": 4,
  "nbformat_minor": 0,
  "metadata": {
    "colab": {
      "name": "FDS_Prac3.ipynb",
      "provenance": []
    },
    "kernelspec": {
      "name": "python3",
      "display_name": "Python 3"
    },
    "language_info": {
      "name": "python"
    }
  },
  "cells": [
    {
      "cell_type": "code",
      "execution_count": 1,
      "metadata": {
        "colab": {
          "base_uri": "https://localhost:8080/"
        },
        "id": "p29pL6fsXCRd",
        "outputId": "0a576cac-d49a-4e92-a7e9-6210fa01f68b"
      },
      "outputs": [
        {
          "output_type": "stream",
          "name": "stdout",
          "text": [
            "probability of getting 3 is : 0.16666666666666666\n"
          ]
        }
      ],
      "source": [
        "#probability of getting a 3 when a die is rollled\n",
        "ns = 6 #{1,2,3,4,5,6}\n",
        "na = 1 # A={3}\n",
        "pa = na / ns #P(A)\n",
        "print(\"probability of getting 3 is :\",pa)"
      ]
    },
    {
      "cell_type": "code",
      "source": [
        "#calculate the probability of getting one head when \n",
        "#a coin is tossed thrice\n",
        "ns = 8 #ns{HHH,HHT,HTH,THH,TTT,TTH,THT,HTT}\n",
        "na = 7 #na{HHH,HHT,HTH,THH,TTH,THT,HTT}\n",
        "pa = na / ns \n",
        "print(\"probability of getting one head is :\",pa)"
      ],
      "metadata": {
        "colab": {
          "base_uri": "https://localhost:8080/"
        },
        "id": "Unsa1vnaXO22",
        "outputId": "4df01eff-5210-44ea-9e92-61940e46f4f9"
      },
      "execution_count": 2,
      "outputs": [
        {
          "output_type": "stream",
          "name": "stdout",
          "text": [
            "probability of getting one head is : 0.875\n"
          ]
        }
      ]
    },
    {
      "cell_type": "code",
      "source": [
        "ns = 10 #{R,R,R,R,R,B,B,B,G,G}\n",
        "na = 7 #{R,R,R,R,R,G,G}\n",
        "pa = na / ns\n",
        "print(\"probability of not getting blue is :\",pa)"
      ],
      "metadata": {
        "colab": {
          "base_uri": "https://localhost:8080/"
        },
        "id": "7y9iD6C4XSnL",
        "outputId": "20491e04-8a80-493e-d69b-0b88d69f8f76"
      },
      "execution_count": 3,
      "outputs": [
        {
          "output_type": "stream",
          "name": "stdout",
          "text": [
            "probability of not getting blue is : 0.7\n"
          ]
        }
      ]
    },
    {
      "cell_type": "code",
      "source": [
        "# The person A will be alive in 20 years is 0.7\n",
        "# The person A will be alive in 20 years is 0.5\n",
        "#Find the probability both the person will be alive in 20 years\n",
        "pa = 0.7\n",
        "pb = 0.5\n",
        "P = pa*pb\n",
        "print(\"The probability of both being alive will be :\",P)"
      ],
      "metadata": {
        "colab": {
          "base_uri": "https://localhost:8080/"
        },
        "id": "qer-5tvtXWng",
        "outputId": "de344de3-b926-4799-8932-5994f120fbf1"
      },
      "execution_count": 4,
      "outputs": [
        {
          "output_type": "stream",
          "name": "stdout",
          "text": [
            "The probability of both being alive will be : 0.35\n"
          ]
        }
      ]
    },
    {
      "cell_type": "code",
      "source": [
        "def event_probability(n,s):\n",
        "    return(n/s)"
      ],
      "metadata": {
        "id": "blnA2PlhXZVx"
      },
      "execution_count": 5,
      "outputs": []
    },
    {
      "cell_type": "code",
      "source": [
        "#A fair die is tossed twice\n",
        "#find the probability of getting a 4 or 5 on the first toss\n",
        "#1,2,3 in the second toss\n",
        "pa = event_probability(2,6)\n",
        "pb = event_probability(3,6)\n",
        "P = pa * pb\n",
        "print(\"The probability will be :\",P)"
      ],
      "metadata": {
        "colab": {
          "base_uri": "https://localhost:8080/"
        },
        "id": "TTzExpKHXaRM",
        "outputId": "e0cb3f4c-64b5-4e2b-8855-60b5a55b66ca"
      },
      "execution_count": 6,
      "outputs": [
        {
          "output_type": "stream",
          "name": "stdout",
          "text": [
            "The probability will be : 0.16666666666666666\n"
          ]
        }
      ]
    },
    {
      "cell_type": "code",
      "source": [
        "# ns ={W,W,W,W,W,B,B,B,G,G}\n",
        "pa = event_probability(5,10)\n",
        "pb = event_probability(3,9)\n",
        "pc = event_probability(2,8)\n",
        "P =pa*pb*pc\n",
        "print(\"The probability will be :\",P)"
      ],
      "metadata": {
        "colab": {
          "base_uri": "https://localhost:8080/"
        },
        "id": "FKuXZ76UXdpO",
        "outputId": "1802824c-84f6-49f0-f783-c9ba7282d105"
      },
      "execution_count": 7,
      "outputs": [
        {
          "output_type": "stream",
          "name": "stdout",
          "text": [
            "The probability will be : 0.041666666666666664\n"
          ]
        }
      ]
    },
    {
      "cell_type": "code",
      "source": [
        "cards = 52\n",
        "heart = 13\n",
        "club = 13\n",
        "ph = event_probability(heart,cards)\n",
        "pc = event_probability(club,cards)\n",
        "P = ph+pc\n",
        "print(\"The probability will be :\",P)"
      ],
      "metadata": {
        "colab": {
          "base_uri": "https://localhost:8080/"
        },
        "id": "0iLdh58gXiY4",
        "outputId": "c53490df-0fbf-4bf0-854e-4b5086e6585e"
      },
      "execution_count": 8,
      "outputs": [
        {
          "output_type": "stream",
          "name": "stdout",
          "text": [
            "The probability will be : 0.5\n"
          ]
        }
      ]
    },
    {
      "cell_type": "code",
      "source": [
        "cards = 52\n",
        "king = 4\n",
        "ace = 4\n",
        "queen = 4\n",
        "pk = event_probability(king,cards)\n",
        "pa = event_probability(ace,cards)\n",
        "pq = event_probability(queen,cards)\n",
        "P = pk+pa+pq\n",
        "print(\"The probability will be :\",P)"
      ],
      "metadata": {
        "colab": {
          "base_uri": "https://localhost:8080/"
        },
        "id": "dxu4DRW3XlZz",
        "outputId": "00703ae5-1004-4795-cec1-1f9b2e309866"
      },
      "execution_count": 9,
      "outputs": [
        {
          "output_type": "stream",
          "name": "stdout",
          "text": [
            "The probability will be : 0.23076923076923078\n"
          ]
        }
      ]
    },
    {
      "cell_type": "code",
      "source": [
        "cards = 52\n",
        "heart = 13\n",
        "ace = 4\n",
        "ace_of_hearts = 1\n",
        "ace_or_hearts =event_probability(heart,cards) + event_probability(ace,cards) - event_probability(ace_of_hearts,cards)\n",
        "print(\"The probability will be :\",ace_or_hearts)"
      ],
      "metadata": {
        "colab": {
          "base_uri": "https://localhost:8080/"
        },
        "id": "QKWhbSzFXn4u",
        "outputId": "fe418223-e07a-4386-d71e-1f3879fd21e1"
      },
      "execution_count": 10,
      "outputs": [
        {
          "output_type": "stream",
          "name": "stdout",
          "text": [
            "The probability will be : 0.3076923076923077\n"
          ]
        }
      ]
    },
    {
      "cell_type": "code",
      "source": [
        "#probability of not getting a 5 when a die is rolled\n",
        "ns = 6 #{1,2,3,4,5,6}\n",
        "na = 1 #{5}\n",
        "pa = na/ns\n",
        "print(\"The probability of not getting 5 will be :\",1-pa)"
      ],
      "metadata": {
        "colab": {
          "base_uri": "https://localhost:8080/"
        },
        "id": "tQwY42VGXqxm",
        "outputId": "23c7c9c1-a68e-4874-af47-587e38efa603"
      },
      "execution_count": 11,
      "outputs": [
        {
          "output_type": "stream",
          "name": "stdout",
          "text": [
            "The probability of not getting 5 will be : 0.8333333333333334\n"
          ]
        }
      ]
    },
    {
      "cell_type": "markdown",
      "source": [
        "P(A) is the probability of grade 80% or greater P(A) = (35+5)/(35+5+277+78)\n",
        "\n",
        "P(B) is the probability of missing 10 or more classes P(B) = (35+5)/(35+5+277+78)\n",
        "\n",
        "PAB = P_A_OR_B/PB PAB = 0.060240963855421686 The probability of getting atleast an 80% final grade, given missing 10 or more class is 6%"
      ],
      "metadata": {
        "id": "Zh14lY8rX1mA"
      }
    },
    {
      "cell_type": "code",
      "source": [
        "import pandas as pd\n",
        "import numpy as np\n",
        "df = pd.read_csv('student-mat.csv')\n",
        "\n",
        "df['grade_A'] = np.where(df['G3']*5 >= 80, 1, 0)\n",
        "df['high_absenses'] = np.where(df['absences'] >= 10, 1, 0)\n",
        "df['count']=1\n",
        "df = df[['grade_A','high_absenses','count']]\n",
        "\n",
        "final = pd.pivot_table(\n",
        "    df,\n",
        "    values = 'count',\n",
        "    index = ['grade_A'],\n",
        "    columns=['high_absenses'],\n",
        "    aggfunc = np.size,\n",
        "    fill_value = 0\n",
        ")\n",
        "\n",
        "#Probability of grade of 80% or greater\n",
        "PA = (35+5)/(35+5+277+78)\n",
        "\n",
        "#PB is probablity of misssing 10 or more class\n",
        "PB = (78+5)/(35+5+277+78)\n",
        "\n",
        "#PB is probablity of misssing 10 or more class\n",
        "PB = (78+5)/(35+5+277+78)\n",
        "\n",
        "P_A_OR_B = 5/(35+5+277+78) \n",
        "\n",
        "PAB = P_A_OR_B/PB\n",
        "print(PAB)\n",
        "#The probability of getting atleast an 80% final grade, \n",
        "#given missing 10 or more class is 6%"
      ],
      "metadata": {
        "colab": {
          "base_uri": "https://localhost:8080/"
        },
        "id": "g7pFWjhHX4Qk",
        "outputId": "ce95f8e1-172e-4b8a-f1a5-46b4809d6390"
      },
      "execution_count": 13,
      "outputs": [
        {
          "output_type": "stream",
          "name": "stdout",
          "text": [
            "0.060240963855421686\n"
          ]
        }
      ]
    }
  ]
}