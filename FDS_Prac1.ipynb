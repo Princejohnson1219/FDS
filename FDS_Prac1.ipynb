{
  "nbformat": 4,
  "nbformat_minor": 0,
  "metadata": {
    "colab": {
      "name": "FDS Prac1.ipynb",
      "provenance": []
    },
    "kernelspec": {
      "name": "python3",
      "display_name": "Python 3"
    },
    "language_info": {
      "name": "python"
    }
  },
  "cells": [
    {
      "cell_type": "code",
      "execution_count": 1,
      "metadata": {
        "colab": {
          "base_uri": "https://localhost:8080/",
          "height": 269
        },
        "id": "StboVC1qa6__",
        "outputId": "18e0419b-634f-4bf2-a4cd-70d1218d5891"
      },
      "outputs": [
        {
          "output_type": "execute_result",
          "data": {
            "text/html": [
              "<div>\n",
              "<style scoped>\n",
              "    .dataframe tbody tr th:only-of-type {\n",
              "        vertical-align: middle;\n",
              "    }\n",
              "\n",
              "    .dataframe tbody tr th {\n",
              "        vertical-align: top;\n",
              "    }\n",
              "\n",
              "    .dataframe thead th {\n",
              "        text-align: right;\n",
              "    }\n",
              "</style>\n",
              "<table border=\"1\" class=\"dataframe\">\n",
              "  <thead>\n",
              "    <tr style=\"text-align: right;\">\n",
              "      <th></th>\n",
              "      <th>name</th>\n",
              "      <th>age</th>\n",
              "      <th>designation</th>\n",
              "    </tr>\n",
              "  </thead>\n",
              "  <tbody>\n",
              "    <tr>\n",
              "      <th>0</th>\n",
              "      <td>a</td>\n",
              "      <td>20</td>\n",
              "      <td>VP</td>\n",
              "    </tr>\n",
              "    <tr>\n",
              "      <th>1</th>\n",
              "      <td>b</td>\n",
              "      <td>27</td>\n",
              "      <td>CEO</td>\n",
              "    </tr>\n",
              "    <tr>\n",
              "      <th>2</th>\n",
              "      <td>c</td>\n",
              "      <td>35</td>\n",
              "      <td>CFO</td>\n",
              "    </tr>\n",
              "    <tr>\n",
              "      <th>3</th>\n",
              "      <td>d</td>\n",
              "      <td>55</td>\n",
              "      <td>VP</td>\n",
              "    </tr>\n",
              "    <tr>\n",
              "      <th>4</th>\n",
              "      <td>e</td>\n",
              "      <td>18</td>\n",
              "      <td>VP</td>\n",
              "    </tr>\n",
              "    <tr>\n",
              "      <th>5</th>\n",
              "      <td>f</td>\n",
              "      <td>21</td>\n",
              "      <td>CEO</td>\n",
              "    </tr>\n",
              "    <tr>\n",
              "      <th>6</th>\n",
              "      <td>g</td>\n",
              "      <td>35</td>\n",
              "      <td>MD</td>\n",
              "    </tr>\n",
              "  </tbody>\n",
              "</table>\n",
              "</div>"
            ],
            "text/plain": [
              "  name  age designation\n",
              "0    a   20          VP\n",
              "1    b   27         CEO\n",
              "2    c   35         CFO\n",
              "3    d   55          VP\n",
              "4    e   18          VP\n",
              "5    f   21         CEO\n",
              "6    g   35          MD"
            ]
          },
          "metadata": {},
          "execution_count": 1
        }
      ],
      "source": [
        "my_dict = {'name' : [\"a\",\"b\",\"c\",\"d\",\"e\",\"f\", \"g\"],\n",
        "           'age' : [20,27,35,55,18,21,35],\n",
        "           'designation' : [\"VP\",\"CEO\",\"CFO\",\"VP\",\"VP\",\"CEO\",\"MD\"]\n",
        "          }\n",
        "\n",
        "import pandas as pd\n",
        "import numpy as np\n",
        "df = pd.DataFrame(my_dict)\n",
        "df"
      ]
    },
    {
      "cell_type": "code",
      "source": [
        "df.to_csv('csv_fds')\n",
        "df"
      ],
      "metadata": {
        "colab": {
          "base_uri": "https://localhost:8080/",
          "height": 269
        },
        "id": "uSecu45SbO3w",
        "outputId": "f8f3ecfe-cad0-4229-b360-8220c6fcc785"
      },
      "execution_count": 2,
      "outputs": [
        {
          "output_type": "execute_result",
          "data": {
            "text/html": [
              "<div>\n",
              "<style scoped>\n",
              "    .dataframe tbody tr th:only-of-type {\n",
              "        vertical-align: middle;\n",
              "    }\n",
              "\n",
              "    .dataframe tbody tr th {\n",
              "        vertical-align: top;\n",
              "    }\n",
              "\n",
              "    .dataframe thead th {\n",
              "        text-align: right;\n",
              "    }\n",
              "</style>\n",
              "<table border=\"1\" class=\"dataframe\">\n",
              "  <thead>\n",
              "    <tr style=\"text-align: right;\">\n",
              "      <th></th>\n",
              "      <th>name</th>\n",
              "      <th>age</th>\n",
              "      <th>designation</th>\n",
              "    </tr>\n",
              "  </thead>\n",
              "  <tbody>\n",
              "    <tr>\n",
              "      <th>0</th>\n",
              "      <td>a</td>\n",
              "      <td>20</td>\n",
              "      <td>VP</td>\n",
              "    </tr>\n",
              "    <tr>\n",
              "      <th>1</th>\n",
              "      <td>b</td>\n",
              "      <td>27</td>\n",
              "      <td>CEO</td>\n",
              "    </tr>\n",
              "    <tr>\n",
              "      <th>2</th>\n",
              "      <td>c</td>\n",
              "      <td>35</td>\n",
              "      <td>CFO</td>\n",
              "    </tr>\n",
              "    <tr>\n",
              "      <th>3</th>\n",
              "      <td>d</td>\n",
              "      <td>55</td>\n",
              "      <td>VP</td>\n",
              "    </tr>\n",
              "    <tr>\n",
              "      <th>4</th>\n",
              "      <td>e</td>\n",
              "      <td>18</td>\n",
              "      <td>VP</td>\n",
              "    </tr>\n",
              "    <tr>\n",
              "      <th>5</th>\n",
              "      <td>f</td>\n",
              "      <td>21</td>\n",
              "      <td>CEO</td>\n",
              "    </tr>\n",
              "    <tr>\n",
              "      <th>6</th>\n",
              "      <td>g</td>\n",
              "      <td>35</td>\n",
              "      <td>MD</td>\n",
              "    </tr>\n",
              "  </tbody>\n",
              "</table>\n",
              "</div>"
            ],
            "text/plain": [
              "  name  age designation\n",
              "0    a   20          VP\n",
              "1    b   27         CEO\n",
              "2    c   35         CFO\n",
              "3    d   55          VP\n",
              "4    e   18          VP\n",
              "5    f   21         CEO\n",
              "6    g   35          MD"
            ]
          },
          "metadata": {},
          "execution_count": 2
        }
      ]
    },
    {
      "cell_type": "code",
      "source": [
        "df_csv = pd.read_csv('csv_fds')\n",
        "df_csv"
      ],
      "metadata": {
        "colab": {
          "base_uri": "https://localhost:8080/",
          "height": 269
        },
        "id": "Nuk5FWCYbS70",
        "outputId": "4ad802fa-41d6-4d81-b945-982ccf9fa373"
      },
      "execution_count": 3,
      "outputs": [
        {
          "output_type": "execute_result",
          "data": {
            "text/html": [
              "<div>\n",
              "<style scoped>\n",
              "    .dataframe tbody tr th:only-of-type {\n",
              "        vertical-align: middle;\n",
              "    }\n",
              "\n",
              "    .dataframe tbody tr th {\n",
              "        vertical-align: top;\n",
              "    }\n",
              "\n",
              "    .dataframe thead th {\n",
              "        text-align: right;\n",
              "    }\n",
              "</style>\n",
              "<table border=\"1\" class=\"dataframe\">\n",
              "  <thead>\n",
              "    <tr style=\"text-align: right;\">\n",
              "      <th></th>\n",
              "      <th>Unnamed: 0</th>\n",
              "      <th>name</th>\n",
              "      <th>age</th>\n",
              "      <th>designation</th>\n",
              "    </tr>\n",
              "  </thead>\n",
              "  <tbody>\n",
              "    <tr>\n",
              "      <th>0</th>\n",
              "      <td>0</td>\n",
              "      <td>a</td>\n",
              "      <td>20</td>\n",
              "      <td>VP</td>\n",
              "    </tr>\n",
              "    <tr>\n",
              "      <th>1</th>\n",
              "      <td>1</td>\n",
              "      <td>b</td>\n",
              "      <td>27</td>\n",
              "      <td>CEO</td>\n",
              "    </tr>\n",
              "    <tr>\n",
              "      <th>2</th>\n",
              "      <td>2</td>\n",
              "      <td>c</td>\n",
              "      <td>35</td>\n",
              "      <td>CFO</td>\n",
              "    </tr>\n",
              "    <tr>\n",
              "      <th>3</th>\n",
              "      <td>3</td>\n",
              "      <td>d</td>\n",
              "      <td>55</td>\n",
              "      <td>VP</td>\n",
              "    </tr>\n",
              "    <tr>\n",
              "      <th>4</th>\n",
              "      <td>4</td>\n",
              "      <td>e</td>\n",
              "      <td>18</td>\n",
              "      <td>VP</td>\n",
              "    </tr>\n",
              "    <tr>\n",
              "      <th>5</th>\n",
              "      <td>5</td>\n",
              "      <td>f</td>\n",
              "      <td>21</td>\n",
              "      <td>CEO</td>\n",
              "    </tr>\n",
              "    <tr>\n",
              "      <th>6</th>\n",
              "      <td>6</td>\n",
              "      <td>g</td>\n",
              "      <td>35</td>\n",
              "      <td>MD</td>\n",
              "    </tr>\n",
              "  </tbody>\n",
              "</table>\n",
              "</div>"
            ],
            "text/plain": [
              "   Unnamed: 0 name  age designation\n",
              "0           0    a   20          VP\n",
              "1           1    b   27         CEO\n",
              "2           2    c   35         CFO\n",
              "3           3    d   55          VP\n",
              "4           4    e   18          VP\n",
              "5           5    f   21         CEO\n",
              "6           6    g   35          MD"
            ]
          },
          "metadata": {},
          "execution_count": 3
        }
      ]
    },
    {
      "cell_type": "code",
      "source": [
        "import pandas as pd\n",
        "Location = \"student-mat.csv\"\n",
        "df = pd.read_csv(Location, header = None)\n",
        "df.head()"
      ],
      "metadata": {
        "colab": {
          "base_uri": "https://localhost:8080/",
          "height": 226
        },
        "id": "DB2eD9JHbZm7",
        "outputId": "8e92f5ad-b031-4b04-9e34-3b0d24fea229"
      },
      "execution_count": 7,
      "outputs": [
        {
          "output_type": "execute_result",
          "data": {
            "text/html": [
              "<div>\n",
              "<style scoped>\n",
              "    .dataframe tbody tr th:only-of-type {\n",
              "        vertical-align: middle;\n",
              "    }\n",
              "\n",
              "    .dataframe tbody tr th {\n",
              "        vertical-align: top;\n",
              "    }\n",
              "\n",
              "    .dataframe thead th {\n",
              "        text-align: right;\n",
              "    }\n",
              "</style>\n",
              "<table border=\"1\" class=\"dataframe\">\n",
              "  <thead>\n",
              "    <tr style=\"text-align: right;\">\n",
              "      <th></th>\n",
              "      <th>0</th>\n",
              "      <th>1</th>\n",
              "      <th>2</th>\n",
              "      <th>3</th>\n",
              "      <th>4</th>\n",
              "      <th>5</th>\n",
              "      <th>6</th>\n",
              "      <th>7</th>\n",
              "      <th>8</th>\n",
              "      <th>9</th>\n",
              "      <th>10</th>\n",
              "      <th>11</th>\n",
              "      <th>12</th>\n",
              "      <th>13</th>\n",
              "      <th>14</th>\n",
              "      <th>15</th>\n",
              "      <th>16</th>\n",
              "      <th>17</th>\n",
              "      <th>18</th>\n",
              "      <th>19</th>\n",
              "      <th>20</th>\n",
              "      <th>21</th>\n",
              "      <th>22</th>\n",
              "      <th>23</th>\n",
              "      <th>24</th>\n",
              "      <th>25</th>\n",
              "      <th>26</th>\n",
              "      <th>27</th>\n",
              "      <th>28</th>\n",
              "      <th>29</th>\n",
              "      <th>30</th>\n",
              "      <th>31</th>\n",
              "      <th>32</th>\n",
              "    </tr>\n",
              "  </thead>\n",
              "  <tbody>\n",
              "    <tr>\n",
              "      <th>0</th>\n",
              "      <td>school</td>\n",
              "      <td>sex</td>\n",
              "      <td>age</td>\n",
              "      <td>address</td>\n",
              "      <td>famsize</td>\n",
              "      <td>Pstatus</td>\n",
              "      <td>Medu</td>\n",
              "      <td>Fedu</td>\n",
              "      <td>Mjob</td>\n",
              "      <td>Fjob</td>\n",
              "      <td>reason</td>\n",
              "      <td>guardian</td>\n",
              "      <td>traveltime</td>\n",
              "      <td>studytime</td>\n",
              "      <td>failures</td>\n",
              "      <td>schoolsup</td>\n",
              "      <td>famsup</td>\n",
              "      <td>paid</td>\n",
              "      <td>activities</td>\n",
              "      <td>nursery</td>\n",
              "      <td>higher</td>\n",
              "      <td>internet</td>\n",
              "      <td>romantic</td>\n",
              "      <td>famrel</td>\n",
              "      <td>freetime</td>\n",
              "      <td>goout</td>\n",
              "      <td>Dalc</td>\n",
              "      <td>Walc</td>\n",
              "      <td>health</td>\n",
              "      <td>absences</td>\n",
              "      <td>G1</td>\n",
              "      <td>G2</td>\n",
              "      <td>G3</td>\n",
              "    </tr>\n",
              "    <tr>\n",
              "      <th>1</th>\n",
              "      <td>GP</td>\n",
              "      <td>F</td>\n",
              "      <td>18</td>\n",
              "      <td>U</td>\n",
              "      <td>GT3</td>\n",
              "      <td>A</td>\n",
              "      <td>4</td>\n",
              "      <td>4</td>\n",
              "      <td>at_home</td>\n",
              "      <td>teacher</td>\n",
              "      <td>course</td>\n",
              "      <td>mother</td>\n",
              "      <td>2</td>\n",
              "      <td>2</td>\n",
              "      <td>0</td>\n",
              "      <td>yes</td>\n",
              "      <td>no</td>\n",
              "      <td>no</td>\n",
              "      <td>no</td>\n",
              "      <td>yes</td>\n",
              "      <td>yes</td>\n",
              "      <td>no</td>\n",
              "      <td>no</td>\n",
              "      <td>4</td>\n",
              "      <td>3</td>\n",
              "      <td>4</td>\n",
              "      <td>1</td>\n",
              "      <td>1</td>\n",
              "      <td>3</td>\n",
              "      <td>6</td>\n",
              "      <td>5</td>\n",
              "      <td>6</td>\n",
              "      <td>6</td>\n",
              "    </tr>\n",
              "    <tr>\n",
              "      <th>2</th>\n",
              "      <td>GP</td>\n",
              "      <td>F</td>\n",
              "      <td>17</td>\n",
              "      <td>U</td>\n",
              "      <td>GT3</td>\n",
              "      <td>T</td>\n",
              "      <td>1</td>\n",
              "      <td>1</td>\n",
              "      <td>at_home</td>\n",
              "      <td>other</td>\n",
              "      <td>course</td>\n",
              "      <td>father</td>\n",
              "      <td>1</td>\n",
              "      <td>2</td>\n",
              "      <td>0</td>\n",
              "      <td>no</td>\n",
              "      <td>yes</td>\n",
              "      <td>no</td>\n",
              "      <td>no</td>\n",
              "      <td>no</td>\n",
              "      <td>yes</td>\n",
              "      <td>yes</td>\n",
              "      <td>no</td>\n",
              "      <td>5</td>\n",
              "      <td>3</td>\n",
              "      <td>3</td>\n",
              "      <td>1</td>\n",
              "      <td>1</td>\n",
              "      <td>3</td>\n",
              "      <td>4</td>\n",
              "      <td>5</td>\n",
              "      <td>5</td>\n",
              "      <td>6</td>\n",
              "    </tr>\n",
              "    <tr>\n",
              "      <th>3</th>\n",
              "      <td>GP</td>\n",
              "      <td>F</td>\n",
              "      <td>15</td>\n",
              "      <td>U</td>\n",
              "      <td>LE3</td>\n",
              "      <td>T</td>\n",
              "      <td>1</td>\n",
              "      <td>1</td>\n",
              "      <td>at_home</td>\n",
              "      <td>other</td>\n",
              "      <td>other</td>\n",
              "      <td>mother</td>\n",
              "      <td>1</td>\n",
              "      <td>2</td>\n",
              "      <td>3</td>\n",
              "      <td>yes</td>\n",
              "      <td>no</td>\n",
              "      <td>yes</td>\n",
              "      <td>no</td>\n",
              "      <td>yes</td>\n",
              "      <td>yes</td>\n",
              "      <td>yes</td>\n",
              "      <td>no</td>\n",
              "      <td>4</td>\n",
              "      <td>3</td>\n",
              "      <td>2</td>\n",
              "      <td>2</td>\n",
              "      <td>3</td>\n",
              "      <td>3</td>\n",
              "      <td>10</td>\n",
              "      <td>7</td>\n",
              "      <td>8</td>\n",
              "      <td>10</td>\n",
              "    </tr>\n",
              "    <tr>\n",
              "      <th>4</th>\n",
              "      <td>GP</td>\n",
              "      <td>F</td>\n",
              "      <td>15</td>\n",
              "      <td>U</td>\n",
              "      <td>GT3</td>\n",
              "      <td>T</td>\n",
              "      <td>4</td>\n",
              "      <td>2</td>\n",
              "      <td>health</td>\n",
              "      <td>services</td>\n",
              "      <td>home</td>\n",
              "      <td>mother</td>\n",
              "      <td>1</td>\n",
              "      <td>3</td>\n",
              "      <td>0</td>\n",
              "      <td>no</td>\n",
              "      <td>yes</td>\n",
              "      <td>yes</td>\n",
              "      <td>yes</td>\n",
              "      <td>yes</td>\n",
              "      <td>yes</td>\n",
              "      <td>yes</td>\n",
              "      <td>yes</td>\n",
              "      <td>3</td>\n",
              "      <td>2</td>\n",
              "      <td>2</td>\n",
              "      <td>1</td>\n",
              "      <td>1</td>\n",
              "      <td>5</td>\n",
              "      <td>2</td>\n",
              "      <td>15</td>\n",
              "      <td>14</td>\n",
              "      <td>15</td>\n",
              "    </tr>\n",
              "  </tbody>\n",
              "</table>\n",
              "</div>"
            ],
            "text/plain": [
              "       0    1    2        3        4   ...      28        29  30  31  32\n",
              "0  school  sex  age  address  famsize  ...  health  absences  G1  G2  G3\n",
              "1      GP    F   18        U      GT3  ...       3         6   5   6   6\n",
              "2      GP    F   17        U      GT3  ...       3         4   5   5   6\n",
              "3      GP    F   15        U      LE3  ...       3        10   7   8  10\n",
              "4      GP    F   15        U      GT3  ...       5         2  15  14  15\n",
              "\n",
              "[5 rows x 33 columns]"
            ]
          },
          "metadata": {},
          "execution_count": 7
        }
      ]
    },
    {
      "cell_type": "code",
      "source": [
        "import pandas as pd\n",
        "names = ['Bob','Jessica','Mary','John','Mel']\n",
        "grades = [76,95,77,78,99]\n",
        "bsdegrees = [1,1,0,0,1]\n",
        "msdegrees = [2,1,0,0,0]\n",
        "phddegrees = [0,1,0,0,0]\n",
        "Degrees = zip(names, grades, bsdegrees, msdegrees, phddegrees)\n",
        "columns = ['Names', 'Grades', 'BS', 'MS', 'PhD']\n",
        "df = pd.DataFrame(data = Degrees, columns=columns)\n",
        "df"
      ],
      "metadata": {
        "colab": {
          "base_uri": "https://localhost:8080/",
          "height": 206
        },
        "id": "t7PhEz6ocB2h",
        "outputId": "418e52cb-9287-444b-8bfa-4fe2d05a83ab"
      },
      "execution_count": 8,
      "outputs": [
        {
          "output_type": "execute_result",
          "data": {
            "text/html": [
              "<div>\n",
              "<style scoped>\n",
              "    .dataframe tbody tr th:only-of-type {\n",
              "        vertical-align: middle;\n",
              "    }\n",
              "\n",
              "    .dataframe tbody tr th {\n",
              "        vertical-align: top;\n",
              "    }\n",
              "\n",
              "    .dataframe thead th {\n",
              "        text-align: right;\n",
              "    }\n",
              "</style>\n",
              "<table border=\"1\" class=\"dataframe\">\n",
              "  <thead>\n",
              "    <tr style=\"text-align: right;\">\n",
              "      <th></th>\n",
              "      <th>Names</th>\n",
              "      <th>Grades</th>\n",
              "      <th>BS</th>\n",
              "      <th>MS</th>\n",
              "      <th>PhD</th>\n",
              "    </tr>\n",
              "  </thead>\n",
              "  <tbody>\n",
              "    <tr>\n",
              "      <th>0</th>\n",
              "      <td>Bob</td>\n",
              "      <td>76</td>\n",
              "      <td>1</td>\n",
              "      <td>2</td>\n",
              "      <td>0</td>\n",
              "    </tr>\n",
              "    <tr>\n",
              "      <th>1</th>\n",
              "      <td>Jessica</td>\n",
              "      <td>95</td>\n",
              "      <td>1</td>\n",
              "      <td>1</td>\n",
              "      <td>1</td>\n",
              "    </tr>\n",
              "    <tr>\n",
              "      <th>2</th>\n",
              "      <td>Mary</td>\n",
              "      <td>77</td>\n",
              "      <td>0</td>\n",
              "      <td>0</td>\n",
              "      <td>0</td>\n",
              "    </tr>\n",
              "    <tr>\n",
              "      <th>3</th>\n",
              "      <td>John</td>\n",
              "      <td>78</td>\n",
              "      <td>0</td>\n",
              "      <td>0</td>\n",
              "      <td>0</td>\n",
              "    </tr>\n",
              "    <tr>\n",
              "      <th>4</th>\n",
              "      <td>Mel</td>\n",
              "      <td>99</td>\n",
              "      <td>1</td>\n",
              "      <td>0</td>\n",
              "      <td>0</td>\n",
              "    </tr>\n",
              "  </tbody>\n",
              "</table>\n",
              "</div>"
            ],
            "text/plain": [
              "     Names  Grades  BS  MS  PhD\n",
              "0      Bob      76   1   2    0\n",
              "1  Jessica      95   1   1    1\n",
              "2     Mary      77   0   0    0\n",
              "3     John      78   0   0    0\n",
              "4      Mel      99   1   0    0"
            ]
          },
          "metadata": {},
          "execution_count": 8
        }
      ]
    },
    {
      "cell_type": "code",
      "source": [
        "import pandas as pd\n",
        "Location = \"gradedata.xlsx\"\n",
        "df = pd.read_excel(Location)\n",
        "df.columns = ['first', 'last', 'sex', 'age', 'exer', 'hrs', 'grd', 'addr']\n",
        "df.head()"
      ],
      "metadata": {
        "colab": {
          "base_uri": "https://localhost:8080/",
          "height": 206
        },
        "id": "npYMOujmcPlh",
        "outputId": "8613760f-f849-4f46-929a-2f6af2b5d338"
      },
      "execution_count": 9,
      "outputs": [
        {
          "output_type": "execute_result",
          "data": {
            "text/html": [
              "<div>\n",
              "<style scoped>\n",
              "    .dataframe tbody tr th:only-of-type {\n",
              "        vertical-align: middle;\n",
              "    }\n",
              "\n",
              "    .dataframe tbody tr th {\n",
              "        vertical-align: top;\n",
              "    }\n",
              "\n",
              "    .dataframe thead th {\n",
              "        text-align: right;\n",
              "    }\n",
              "</style>\n",
              "<table border=\"1\" class=\"dataframe\">\n",
              "  <thead>\n",
              "    <tr style=\"text-align: right;\">\n",
              "      <th></th>\n",
              "      <th>first</th>\n",
              "      <th>last</th>\n",
              "      <th>sex</th>\n",
              "      <th>age</th>\n",
              "      <th>exer</th>\n",
              "      <th>hrs</th>\n",
              "      <th>grd</th>\n",
              "      <th>addr</th>\n",
              "    </tr>\n",
              "  </thead>\n",
              "  <tbody>\n",
              "    <tr>\n",
              "      <th>0</th>\n",
              "      <td>Marcia</td>\n",
              "      <td>Pugh</td>\n",
              "      <td>female</td>\n",
              "      <td>17</td>\n",
              "      <td>3</td>\n",
              "      <td>10</td>\n",
              "      <td>82.4</td>\n",
              "      <td>7379 Highland Rd. , Dublin, GA 31021</td>\n",
              "    </tr>\n",
              "    <tr>\n",
              "      <th>1</th>\n",
              "      <td>Kadeem</td>\n",
              "      <td>Morrison</td>\n",
              "      <td>male</td>\n",
              "      <td>18</td>\n",
              "      <td>4</td>\n",
              "      <td>4</td>\n",
              "      <td>78.2</td>\n",
              "      <td>8 Bayport St. , Honolulu, HI 96815</td>\n",
              "    </tr>\n",
              "    <tr>\n",
              "      <th>2</th>\n",
              "      <td>Nash</td>\n",
              "      <td>Powell</td>\n",
              "      <td>male</td>\n",
              "      <td>18</td>\n",
              "      <td>5</td>\n",
              "      <td>9</td>\n",
              "      <td>79.3</td>\n",
              "      <td>Encino, CA 91316, 3 Lilac Street</td>\n",
              "    </tr>\n",
              "    <tr>\n",
              "      <th>3</th>\n",
              "      <td>Noelani</td>\n",
              "      <td>Wagner</td>\n",
              "      <td>female</td>\n",
              "      <td>14</td>\n",
              "      <td>2</td>\n",
              "      <td>7</td>\n",
              "      <td>83.2</td>\n",
              "      <td>Riverview, FL 33569, 9998 North Smith Dr.</td>\n",
              "    </tr>\n",
              "    <tr>\n",
              "      <th>4</th>\n",
              "      <td>Noelani</td>\n",
              "      <td>Cherry</td>\n",
              "      <td>female</td>\n",
              "      <td>18</td>\n",
              "      <td>4</td>\n",
              "      <td>15</td>\n",
              "      <td>87.4</td>\n",
              "      <td>97 SE. Ocean Street , Bethlehem, PA 18015</td>\n",
              "    </tr>\n",
              "  </tbody>\n",
              "</table>\n",
              "</div>"
            ],
            "text/plain": [
              "     first      last  ...   grd                                        addr\n",
              "0   Marcia      Pugh  ...  82.4        7379 Highland Rd. , Dublin, GA 31021\n",
              "1   Kadeem  Morrison  ...  78.2          8 Bayport St. , Honolulu, HI 96815\n",
              "2     Nash    Powell  ...  79.3           Encino, CA 91316, 3 Lilac Street \n",
              "3  Noelani    Wagner  ...  83.2  Riverview, FL 33569, 9998 North Smith Dr. \n",
              "4  Noelani    Cherry  ...  87.4   97 SE. Ocean Street , Bethlehem, PA 18015\n",
              "\n",
              "[5 rows x 8 columns]"
            ]
          },
          "metadata": {},
          "execution_count": 9
        }
      ]
    },
    {
      "cell_type": "code",
      "source": [
        "pip install xlsxwriter"
      ],
      "metadata": {
        "colab": {
          "base_uri": "https://localhost:8080/"
        },
        "id": "ThAEw_7gdFEk",
        "outputId": "248f16eb-40b7-4b86-9050-142970ec9ab5"
      },
      "execution_count": 12,
      "outputs": [
        {
          "output_type": "stream",
          "name": "stdout",
          "text": [
            "Collecting xlsxwriter\n",
            "  Downloading XlsxWriter-3.0.2-py3-none-any.whl (149 kB)\n",
            "\u001b[?25l\r\u001b[K     |██▏                             | 10 kB 26.3 MB/s eta 0:00:01\r\u001b[K     |████▍                           | 20 kB 14.6 MB/s eta 0:00:01\r\u001b[K     |██████▋                         | 30 kB 9.8 MB/s eta 0:00:01\r\u001b[K     |████████▊                       | 40 kB 9.2 MB/s eta 0:00:01\r\u001b[K     |███████████                     | 51 kB 4.9 MB/s eta 0:00:01\r\u001b[K     |█████████████▏                  | 61 kB 5.5 MB/s eta 0:00:01\r\u001b[K     |███████████████▎                | 71 kB 5.6 MB/s eta 0:00:01\r\u001b[K     |█████████████████▌              | 81 kB 6.2 MB/s eta 0:00:01\r\u001b[K     |███████████████████▊            | 92 kB 6.2 MB/s eta 0:00:01\r\u001b[K     |█████████████████████▉          | 102 kB 4.9 MB/s eta 0:00:01\r\u001b[K     |████████████████████████        | 112 kB 4.9 MB/s eta 0:00:01\r\u001b[K     |██████████████████████████▎     | 122 kB 4.9 MB/s eta 0:00:01\r\u001b[K     |████████████████████████████▍   | 133 kB 4.9 MB/s eta 0:00:01\r\u001b[K     |██████████████████████████████▋ | 143 kB 4.9 MB/s eta 0:00:01\r\u001b[K     |████████████████████████████████| 149 kB 4.9 MB/s \n",
            "\u001b[?25hInstalling collected packages: xlsxwriter\n",
            "Successfully installed xlsxwriter-3.0.2\n"
          ]
        }
      ]
    },
    {
      "cell_type": "code",
      "source": [
        "import pandas as pd\n",
        "names = ['Bob', 'Jessica', 'Mary', 'John', 'Mel']\n",
        "grades = [76,95,77,78,99]\n",
        "GradeList = zip(names, grades)\n",
        "df = pd.DataFrame(data = GradeList, columns=['Names', 'Grades'])\n",
        "writer = pd.ExcelWriter('dataframe_FDS.xlsx', engine='xlsxwriter')\n",
        "df.to_excel(writer, sheet_name='Sheet1')\n",
        "writer.save()"
      ],
      "metadata": {
        "id": "ewvAEYwAgz6A"
      },
      "execution_count": 13,
      "outputs": []
    },
    {
      "cell_type": "code",
      "source": [
        "import sqlite3\n",
        "\n",
        "con = sqlite3.connect(\"portal_mammals.sqlite\")\n",
        "\n",
        "cur = con.cursor()\n",
        "\n",
        "for row in cur.execute('SELECT * FROM species;'):\n",
        "    print(row)\n",
        "con.close()"
      ],
      "metadata": {
        "colab": {
          "base_uri": "https://localhost:8080/"
        },
        "id": "rh8wYnO9g7Mj",
        "outputId": "e5d2ca29-4750-4e0e-ee23-876523975b93"
      },
      "execution_count": 15,
      "outputs": [
        {
          "output_type": "stream",
          "name": "stdout",
          "text": [
            "('AB', 'Amphispiza', 'bilineata', 'Bird')\n",
            "('AH', 'Ammospermophilus', 'harrisi', 'Rodent')\n",
            "('AS', 'Ammodramus', 'savannarum', 'Bird')\n",
            "('BA', 'Baiomys', 'taylori', 'Rodent')\n",
            "('CB', 'Campylorhynchus', 'brunneicapillus', 'Bird')\n",
            "('CM', 'Calamospiza', 'melanocorys', 'Bird')\n",
            "('CQ', 'Callipepla', 'squamata', 'Bird')\n",
            "('CS', 'Crotalus', 'scutalatus', 'Reptile')\n",
            "('CT', 'Cnemidophorus', 'tigris', 'Reptile')\n",
            "('CU', 'Cnemidophorus', 'uniparens', 'Reptile')\n",
            "('CV', 'Crotalus', 'viridis', 'Reptile')\n",
            "('DM', 'Dipodomys', 'merriami', 'Rodent')\n",
            "('DO', 'Dipodomys', 'ordii', 'Rodent')\n",
            "('DS', 'Dipodomys', 'spectabilis', 'Rodent')\n",
            "('DX', 'Dipodomys', 'sp.', 'Rodent')\n",
            "('EO', 'Eumeces', 'obsoletus', 'Reptile')\n",
            "('GS', 'Gambelia', 'silus', 'Reptile')\n",
            "('NL', 'Neotoma', 'albigula', 'Rodent')\n",
            "('NX', 'Neotoma', 'sp.', 'Rodent')\n",
            "('OL', 'Onychomys', 'leucogaster', 'Rodent')\n",
            "('OT', 'Onychomys', 'torridus', 'Rodent')\n",
            "('OX', 'Onychomys', 'sp.', 'Rodent')\n",
            "('PB', 'Chaetodipus', 'baileyi', 'Rodent')\n",
            "('PC', 'Pipilo', 'chlorurus', 'Bird')\n",
            "('PE', 'Peromyscus', 'eremicus', 'Rodent')\n",
            "('PF', 'Perognathus', 'flavus', 'Rodent')\n",
            "('PG', 'Pooecetes', 'gramineus', 'Bird')\n",
            "('PH', 'Perognathus', 'hispidus', 'Rodent')\n",
            "('PI', 'Chaetodipus', 'intermedius', 'Rodent')\n",
            "('PL', 'Peromyscus', 'leucopus', 'Rodent')\n",
            "('PM', 'Peromyscus', 'maniculatus', 'Rodent')\n",
            "('PP', 'Chaetodipus', 'penicillatus', 'Rodent')\n",
            "('PU', 'Pipilo', 'fuscus', 'Bird')\n",
            "('PX', 'Chaetodipus', 'sp.', 'Rodent')\n",
            "('RF', 'Reithrodontomys', 'fulvescens', 'Rodent')\n",
            "('RM', 'Reithrodontomys', 'megalotis', 'Rodent')\n",
            "('RO', 'Reithrodontomys', 'montanus', 'Rodent')\n",
            "('RX', 'Reithrodontomys', 'sp.', 'Rodent')\n",
            "('SA', 'Sylvilagus', 'audubonii', 'Rabbit')\n",
            "('SB', 'Spizella', 'breweri', 'Bird')\n",
            "('SC', 'Sceloporus', 'clarki', 'Reptile')\n",
            "('SF', 'Sigmodon', 'fulviventer', 'Rodent')\n",
            "('SH', 'Sigmodon', 'hispidus', 'Rodent')\n",
            "('SO', 'Sigmodon', 'ochrognathus', 'Rodent')\n",
            "('SS', 'Spermophilus', 'spilosoma', 'Rodent')\n",
            "('ST', 'Spermophilus', 'tereticaudus', 'Rodent')\n",
            "('SU', 'Sceloporus', 'undulatus', 'Reptile')\n",
            "('SX', 'Sigmodon', 'sp.', 'Rodent')\n",
            "('UL', 'Lizard', 'sp.', 'Reptile')\n",
            "('UP', 'Pipilo', 'sp.', 'Bird')\n",
            "('UR', 'Rodent', 'sp.', 'Rodent')\n",
            "('US', 'Sparrow', 'sp.', 'Bird')\n",
            "('ZL', 'Zonotrichia', 'leucophrys', 'Bird')\n",
            "('ZM', 'Zenaida', 'macroura', 'Bird')\n"
          ]
        }
      ]
    },
    {
      "cell_type": "code",
      "source": [
        "import sqlite3\n",
        "\n",
        "con = sqlite3.connect(\"portal_mammals.sqlite\")\n",
        "\n",
        "cur = con.cursor()\n",
        "\n",
        "cur.execute('SELECT plot_id FROM plots WHERE plot_type=\"Control\"')\n",
        "print(cur.fetchall())\n",
        "\n",
        "cur.execute('SELECT species FROM species WHERE taxa=\"Bird\"')\n",
        "print(cur.fetchone())\n",
        "\n",
        "con.close()"
      ],
      "metadata": {
        "colab": {
          "base_uri": "https://localhost:8080/"
        },
        "id": "_Oy_atnSigZ0",
        "outputId": "8fc57da2-2bbb-416f-9f2e-7d6ddb7b7070"
      },
      "execution_count": 16,
      "outputs": [
        {
          "output_type": "stream",
          "name": "stdout",
          "text": [
            "[(2,), (4,), (8,), (11,), (12,), (14,), (17,), (22,)]\n",
            "('bilineata',)\n"
          ]
        }
      ]
    },
    {
      "cell_type": "code",
      "source": [
        "from pandas import DataFrame\n",
        "Cars = {'Brand':['Honda Civic', 'Toyota Corolla', 'Ford Focus', 'Audi'],\n",
        "        'Price':[22000,25000,27000,35000]\n",
        "       }\n",
        "df = DataFrame(Cars,columns=['Brand', 'Price'])\n",
        "print(df)"
      ],
      "metadata": {
        "colab": {
          "base_uri": "https://localhost:8080/"
        },
        "id": "ccq-H0Gei5B7",
        "outputId": "9a869d84-bc3f-4551-a51b-b1dc7769e916"
      },
      "execution_count": 17,
      "outputs": [
        {
          "output_type": "stream",
          "name": "stdout",
          "text": [
            "            Brand  Price\n",
            "0     Honda Civic  22000\n",
            "1  Toyota Corolla  25000\n",
            "2      Ford Focus  27000\n",
            "3            Audi  35000\n"
          ]
        }
      ]
    },
    {
      "cell_type": "code",
      "source": [
        "import sqlite3"
      ],
      "metadata": {
        "id": "Cwf3mXeBjAdP"
      },
      "execution_count": 18,
      "outputs": []
    },
    {
      "cell_type": "code",
      "source": [
        "conn = sqlite3.connect('TestDB1_FDS.db')\n",
        "c = conn.cursor()"
      ],
      "metadata": {
        "id": "DjkFU_DHjeJI"
      },
      "execution_count": 19,
      "outputs": []
    },
    {
      "cell_type": "code",
      "source": [
        "c.execute('CREATE TABLE CARS_FDS(Brand test, Price number)')\n",
        "conn.commit()"
      ],
      "metadata": {
        "id": "4cOOEiFfjkzV"
      },
      "execution_count": 20,
      "outputs": []
    },
    {
      "cell_type": "code",
      "source": [
        "df.to_sql('CARS', conn, if_exists='replace', index=False)"
      ],
      "metadata": {
        "id": "OoYhVvnujpBA"
      },
      "execution_count": 21,
      "outputs": []
    },
    {
      "cell_type": "code",
      "source": [
        "c.execute('''\n",
        "SELECT Brand, max(Price) from CARS\n",
        "''')"
      ],
      "metadata": {
        "colab": {
          "base_uri": "https://localhost:8080/"
        },
        "id": "DEOxOcS8jrsN",
        "outputId": "3027a9b2-8ec6-47f0-c22b-e81cbb1610d0"
      },
      "execution_count": 22,
      "outputs": [
        {
          "output_type": "execute_result",
          "data": {
            "text/plain": [
              "<sqlite3.Cursor at 0x7fa485b299d0>"
            ]
          },
          "metadata": {},
          "execution_count": 22
        }
      ]
    },
    {
      "cell_type": "code",
      "source": [
        "df = DataFrame(c.fetchall(), columns=['Brand', 'Price'])\n",
        "df"
      ],
      "metadata": {
        "colab": {
          "base_uri": "https://localhost:8080/",
          "height": 81
        },
        "id": "8LSgoMrHjyDn",
        "outputId": "a37f55d5-9ea2-4c16-a2df-3558863fae6a"
      },
      "execution_count": 23,
      "outputs": [
        {
          "output_type": "execute_result",
          "data": {
            "text/html": [
              "<div>\n",
              "<style scoped>\n",
              "    .dataframe tbody tr th:only-of-type {\n",
              "        vertical-align: middle;\n",
              "    }\n",
              "\n",
              "    .dataframe tbody tr th {\n",
              "        vertical-align: top;\n",
              "    }\n",
              "\n",
              "    .dataframe thead th {\n",
              "        text-align: right;\n",
              "    }\n",
              "</style>\n",
              "<table border=\"1\" class=\"dataframe\">\n",
              "  <thead>\n",
              "    <tr style=\"text-align: right;\">\n",
              "      <th></th>\n",
              "      <th>Brand</th>\n",
              "      <th>Price</th>\n",
              "    </tr>\n",
              "  </thead>\n",
              "  <tbody>\n",
              "    <tr>\n",
              "      <th>0</th>\n",
              "      <td>Audi</td>\n",
              "      <td>35000</td>\n",
              "    </tr>\n",
              "  </tbody>\n",
              "</table>\n",
              "</div>"
            ],
            "text/plain": [
              "  Brand  Price\n",
              "0  Audi  35000"
            ]
          },
          "metadata": {},
          "execution_count": 23
        }
      ]
    }
  ]
}